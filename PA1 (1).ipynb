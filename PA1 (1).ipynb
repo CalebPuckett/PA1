{
 "cells": [
  {
   "cell_type": "code",
   "execution_count": 2,
   "id": "b6186183",
   "metadata": {},
   "outputs": [
    {
     "name": "stdout",
     "output_type": "stream",
     "text": [
      "Enter a floating point number. 39.4\n"
     ]
    }
   ],
   "source": [
    "x = float(input('Enter a floating point number. '))"
   ]
  },
  {
   "cell_type": "code",
   "execution_count": 4,
   "id": "89890300",
   "metadata": {},
   "outputs": [
    {
     "name": "stdout",
     "output_type": "stream",
     "text": [
      "Enter an integer. 17\n"
     ]
    }
   ],
   "source": [
    "y = int(input('Enter an integer. '))"
   ]
  },
  {
   "cell_type": "code",
   "execution_count": 6,
   "id": "1423cc0f",
   "metadata": {},
   "outputs": [
    {
     "name": "stdout",
     "output_type": "stream",
     "text": [
      "the sum is 56.4\n"
     ]
    }
   ],
   "source": [
    "print('the sum is',x+y)"
   ]
  },
  {
   "cell_type": "code",
   "execution_count": 7,
   "id": "53e05957",
   "metadata": {},
   "outputs": [
    {
     "name": "stdout",
     "output_type": "stream",
     "text": [
      "the difference is 22.4\n"
     ]
    }
   ],
   "source": [
    "print('the difference is',x-y)"
   ]
  },
  {
   "cell_type": "code",
   "execution_count": 8,
   "id": "d1256c1e",
   "metadata": {},
   "outputs": [
    {
     "name": "stdout",
     "output_type": "stream",
     "text": [
      "the product is 669.8\n"
     ]
    }
   ],
   "source": [
    "print('the product is',x*y)"
   ]
  },
  {
   "cell_type": "code",
   "execution_count": 9,
   "id": "e5814191",
   "metadata": {},
   "outputs": [
    {
     "name": "stdout",
     "output_type": "stream",
     "text": [
      "the quotient is 2.317647058823529\n"
     ]
    }
   ],
   "source": [
    "print('the quotient is',x/y)"
   ]
  },
  {
   "cell_type": "code",
   "execution_count": 10,
   "id": "4dc5b36b",
   "metadata": {},
   "outputs": [
    {
     "name": "stdout",
     "output_type": "stream",
     "text": [
      "The type for the result is <class 'float'>\n"
     ]
    }
   ],
   "source": [
    "print('The type for the result is', type(x/y))"
   ]
  },
  {
   "cell_type": "markdown",
   "id": "ac78e10b",
   "metadata": {},
   "source": [
    "## PA1.ipynb"
   ]
  },
  {
   "cell_type": "markdown",
   "id": "f5b6064d",
   "metadata": {},
   "source": [
    "## Caleb Puckett"
   ]
  },
  {
   "cell_type": "markdown",
   "id": "91102064",
   "metadata": {},
   "source": [
    "## Fall 2021"
   ]
  }
 ],
 "metadata": {
  "kernelspec": {
   "display_name": "Python 3",
   "language": "python",
   "name": "python3"
  },
  "language_info": {
   "codemirror_mode": {
    "name": "ipython",
    "version": 3
   },
   "file_extension": ".py",
   "mimetype": "text/x-python",
   "name": "python",
   "nbconvert_exporter": "python",
   "pygments_lexer": "ipython3",
   "version": "3.8.8"
  }
 },
 "nbformat": 4,
 "nbformat_minor": 5
}
